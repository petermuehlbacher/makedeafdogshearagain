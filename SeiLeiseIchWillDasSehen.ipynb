{
 "metadata": {
  "name": "",
  "signature": "sha256:bd783de99c2cd2b53e95459907f9081c13a93a450f3f32449c0230735a830c98"
 },
 "nbformat": 3,
 "nbformat_minor": 0,
 "worksheets": [
  {
   "cells": [
    {
     "cell_type": "heading",
     "level": 1,
     "metadata": {},
     "source": [
      "General Settings and Imports"
     ]
    },
    {
     "cell_type": "code",
     "collapsed": false,
     "input": [
      "# documentation follows https://www.python.org/dev/peps/pep-0257/\n",
      "import matplotlib.pyplot as plt\n",
      "import matplotlib.image as mpimg\n",
      "from matplotlib.pyplot import imshow\n",
      "import numpy as np\n",
      "from PIL import Image\n",
      "%matplotlib inline\n",
      "\n",
      "# number of iterations we will need\n",
      "resolution=3\n",
      "\n",
      "# e.g. `indexLength.format(i)` to map i=5 to 00...0101\n",
      "# (where the number of predecing zeroes depends on `resolution`)\n",
      "\n",
      "# length of the square\n",
      "l=2**resolution\n",
      "\n",
      "indexLength = '{0:0'+str(2*resolution)+'b}' # input should be of length 2*resolution\n",
      "coordinateLength = '{0:0'+str(resolution)+'b}'\n",
      "maxDecimalLength = '{:'+str(int(np.ceil(np.log10(l**2-1))))+'}' # for displaying in decimal system"
     ],
     "language": "python",
     "metadata": {},
     "outputs": [],
     "prompt_number": 1
    },
    {
     "cell_type": "heading",
     "level": 1,
     "metadata": {},
     "source": [
      "Pixel \u2192 Index"
     ]
    },
    {
     "cell_type": "code",
     "collapsed": false,
     "input": [
      "def pixelToIndex(x,y):\n",
      "    \"\"\"Returns binary string of length log_2(l^2) which is a bijective mapping\n",
      "    from $l\\times l\\subset\\mathbb R^2$ to $l^2\\subset\\mathbb R$,\n",
      "    given by the (resolution)-th iteration of the Peano curve family\"\"\"\n",
      "    \n",
      "    index = ''\n",
      "    xb = coordinateLength.format(x)\n",
      "    yb = coordinateLength.format(y)\n",
      "\n",
      "    indexMatrix = np.arange(4).reshape((2, 2))\n",
      "    # initializing it within the function on purpose\n",
      "    # so it gets reset every time the function is called\n",
      "    indexMatrix[1] = indexMatrix[1][::-1] # swap the third and fourth node\n",
      "    \n",
      "    for i in range(resolution):\n",
      "        currX = int(xb[i])\n",
      "        currY = int(yb[i])\n",
      "        \n",
      "        quadrant = indexMatrix[currX][currY]\n",
      "        #print (currX,currY,\"quadrant: \",quadrant)\n",
      "        index += '{0:02b}'.format(quadrant)\n",
      "        \n",
      "        if quadrant == 0: # bottom left -> flip along y=x, leaving first and third quadrant invariant\n",
      "            indexMatrix = np.transpose(indexMatrix)\n",
      "        if quadrant == 3: # bottom right -> rotate indexMatrix counterclockwise\n",
      "            indexMatrix = np.fliplr(np.transpose(np.fliplr(indexMatrix)))\n",
      "    \n",
      "    return index"
     ],
     "language": "python",
     "metadata": {},
     "outputs": [],
     "prompt_number": 2
    },
    {
     "cell_type": "heading",
     "level": 1,
     "metadata": {},
     "source": [
      "Setting up the Conversion Lists"
     ]
    },
    {
     "cell_type": "code",
     "collapsed": false,
     "input": [
      "XYtoIndex = [None]*l\n",
      "indexToX = [None]*(l**2)\n",
      "indexToY = [None]*(l**2)\n",
      "\n",
      "for x in range(l):\n",
      "    XYtoIndex[x] = [None]*l\n",
      "    for y in range(l):\n",
      "        i = int(pixelToIndex(x,y),2)\n",
      "        XYtoIndex[x][y] = i\n",
      "        indexToX[i] = x\n",
      "        indexToY[i] = y"
     ],
     "language": "python",
     "metadata": {},
     "outputs": [],
     "prompt_number": 3
    },
    {
     "cell_type": "heading",
     "level": 2,
     "metadata": {},
     "source": [
      "Proof of Concept"
     ]
    },
    {
     "cell_type": "code",
     "collapsed": false,
     "input": [
      "peanoCurve = np.flipud(np.transpose(XYtoIndex)[::-1]) # to display it as we would draw it\n",
      "\n",
      "for row in peanoCurve[::-1]:\n",
      "    for val in row:\n",
      "        print maxDecimalLength.format(val),\n",
      "    print"
     ],
     "language": "python",
     "metadata": {},
     "outputs": [
      {
       "output_type": "stream",
       "stream": "stdout",
       "text": [
        "21 22 25 26 37 38 41 42\n",
        "20 23 24 27 36 39 40 43\n",
        "19 18 29 28 35 34 45 44\n",
        "16 17 30 31 32 33 46 47\n",
        "15 12 11 10 53 52 51 48\n",
        "14 13  8  9 54 55 50 49\n",
        " 1  2  7  6 57 56 61 62\n",
        " 0  3  4  5 58 59 60 63\n"
       ]
      }
     ],
     "prompt_number": 4
    },
    {
     "cell_type": "heading",
     "level": 1,
     "metadata": {},
     "source": [
      "Image \u2192 Fourier series"
     ]
    },
    {
     "cell_type": "code",
     "collapsed": false,
     "input": [
      "def imgToFTCoefficients(imgArray):\n",
      "    \"\"\"Takes an image (l\\times l\\times 3 array) and returns \n",
      "    a two lists storing the real and imaginary part (respectively)\"\"\"\n",
      "    FTCoefficients = ([],[]) # Re and Im are separate lists\n",
      "    \n",
      "    for i in range(l**2):\n",
      "        j = indexLength.format(i) # decimal -> binary of length 2*resolution\n",
      "        _,re,im = imgArray[indexToX[i]][indexToY[i]] # set re,im to be the G and B channel\n",
      "        FTCoefficients[0].append(re)\n",
      "        FTCoefficients[1].append(im)\n",
      "        # disregard the R channel\n",
      "    return FTCoefficients"
     ],
     "language": "python",
     "metadata": {},
     "outputs": [],
     "prompt_number": 5
    },
    {
     "cell_type": "code",
     "collapsed": false,
     "input": [
      "def FTCoefficientsToImg(FTCoefficients):\n",
      "    \"\"\"Takes a tuple of two lists storing the real and imaginary part\n",
      "    and returns an image (l\\times l\\times 3 array), where the R channel\n",
      "    is set to zero, Re is mapped to G and Im to B\"\"\"\n",
      "    imgArray = []\n",
      "    for x in range(l):\n",
      "        imgArray.append([None]*l)\n",
      "        for y in range(l):\n",
      "            index = XYtoIndex[x][y]\n",
      "            re = FTCoefficients[0][index]\n",
      "            im = FTCoefficients[1][index]\n",
      "            imgArray[x][y] = [0,re,im]\n",
      "    return imgArray"
     ],
     "language": "python",
     "metadata": {},
     "outputs": [],
     "prompt_number": 6
    },
    {
     "cell_type": "heading",
     "level": 2,
     "metadata": {},
     "source": [
      "Examples"
     ]
    },
    {
     "cell_type": "code",
     "collapsed": false,
     "input": [
      "# imgArray = np.asarray(Image.open('profile.jpg', 'r')) <-- images should be loaded that way\n",
      "# doing that yield a result like that (take care that images are 2^resolution x 2^resolution):\n",
      "imgArray = ([\n",
      "[[0,0,0],[0,0,0],[0,0,0],[0,0,0],[0,0,0],[0,0,0],[0,0,0],[0,0,0]],\n",
      "[[0,0,0],[0,1,0],[0,0,0],[0,0,0],[0,0,0],[0,0,0],[0,1,1],[0,0,0]],\n",
      "[[0,0,0],[0,0,0],[0,0,0],[0,0,0],[0,0,0],[0,0,0],[0,0,0],[0,0,0]],\n",
      "[[0,0,0],[0,0,0],[0,0,0],[0,0,0],[0,0,0],[0,0,0],[0,0,0],[0,0,0]],\n",
      "[[0,0,0],[0,0,0],[0,0,0],[0,0,0],[0,0,1],[0,0,0],[0,0,0],[0,0,0]],\n",
      "[[0,0,0],[1,0,0],[0,0,0],[0,0,0],[0,0,0],[0,0,0],[0,0,0],[1,0,1]],\n",
      "[[0,0,0],[0,0,0],[0,0,0],[0,0,0],[1,1,0],[0,0,0],[0,0,0],[0,0,0]],\n",
      "[[0,0,0],[0,0,0],[0,0,0],[0,0,0],[0,0,0],[0,0,0],[0,0,0],[0,0,0]]\n",
      "])\n",
      "# use `imshow(imgArray)` to show a picture in iPython\n",
      "fig = plt.figure()\n",
      "a=fig.add_subplot(1,2,1)\n",
      "imgplot = plt.imshow(imgArray)\n",
      "a.set_title('Before')\n",
      "a=fig.add_subplot(1,2,2)\n",
      "imgplot = plt.imshow(FTCoefficientsToImg(imgToFTCoefficients(imgArray)))\n",
      "a.set_title('After')\n",
      "plt.show()"
     ],
     "language": "python",
     "metadata": {},
     "outputs": [
      {
       "metadata": {},
       "output_type": "display_data",
       "png": "[encoded data removed]",
       "text": [
        "<matplotlib.figure.Figure at 0x1115c5210>"
       ]
      }
     ],
     "prompt_number": 7
    }
   ],
   "metadata": {}
  }
 ]
}