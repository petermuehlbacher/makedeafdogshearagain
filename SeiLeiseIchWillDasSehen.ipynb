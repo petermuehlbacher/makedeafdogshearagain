{
 "metadata": {
  "name": "",
  "signature": "sha256:24e8914525351f3abe0af455c1f2f0f1cdcb9f5639fc360e0b772bfa17f900f2"
 },
 "nbformat": 3,
 "nbformat_minor": 0,
 "worksheets": [
  {
   "cells": [
    {
     "cell_type": "heading",
     "level": 1,
     "metadata": {},
     "source": [
      "General Settings and Imports"
     ]
    },
    {
     "cell_type": "code",
     "collapsed": false,
     "input": [
      "# documentation follows https://www.python.org/dev/peps/pep-0257/\n",
      "import matplotlib.pyplot as plt\n",
      "import matplotlib.image as mpimg\n",
      "from matplotlib.pyplot import imshow\n",
      "import numpy as np\n",
      "from PIL import Image\n",
      "import wave\n",
      "import struct\n",
      "import subprocess\n",
      "import scipy.misc as sm\n",
      "%matplotlib inline\n",
      "\n",
      "# number of iterations we will need\n",
      "resolution=3\n",
      "\n",
      "# length of the square\n",
      "l=2**resolution\n",
      "\n",
      "maxDecimalLength = '{:'+str(int(np.ceil(np.log10(l**2-1))))+'}' # for displaying in decimal system"
     ],
     "language": "python",
     "metadata": {},
     "outputs": [],
     "prompt_number": 1
    },
    {
     "cell_type": "heading",
     "level": 1,
     "metadata": {},
     "source": [
      "Pixel \u2192 Index"
     ]
    },
    {
     "cell_type": "code",
     "collapsed": false,
     "input": [
      "def pixelToIndex(x,y, resolution):\n",
      "    \"\"\"Returns the index int 0<=index<l^2; this is a bijective mapping\n",
      "    from $l\\times l\\subset\\mathbb R^2$ to $l^2\\subset\\mathbb R$,\n",
      "    given by the (resolution)-th iteration of the Peano curve family\"\"\"\n",
      "    \n",
      "    index = ''\n",
      "\n",
      "    indexMatrix = np.arange(4).reshape((2, 2))\n",
      "    # initializing it within the function on purpose\n",
      "    # so it gets reset every time the function is called\n",
      "    indexMatrix[1] = indexMatrix[1][::-1] # swap the third and fourth node\n",
      "    \n",
      "    for i in range(resolution):\n",
      "        # bitwise shift to the right so that the i-th bit is the first one from the left\n",
      "        # then take mod 2 to eliminate all other bits that are to its left\n",
      "        # this way we get the i-th (from the left) element of the numbers binary representation,\n",
      "        # e.g. 2 = 000010 -> 1 for i=4\n",
      "        currX = (x>>(resolution-i-1))%2\n",
      "        currY = (y>>(resolution-i-1))%2\n",
      "        \n",
      "        # depending on what the parent is (the first and the fourth quadrant undergo some flipping)\n",
      "        # this represents the information how many steps it is from the beginning of the current\n",
      "        # square we are in; e.g. on the most coarse grained scale the left bottom is 0, left top 1,\n",
      "        # right top 2 and right bottom 3; if the 'parent' was (e.g.) an element at the right bottom,\n",
      "        # then everything is flipped, i.e. the left bottom is 2, the left top 1, the right top 0 and\n",
      "        # the right bottom 3\n",
      "        quadrant = indexMatrix[currX][currY]\n",
      "        \n",
      "        # append 00,01,10 or 11 depending on whether quadrant is 0,1,2 or 3 respectively\n",
      "        index += '{0:02b}'.format(quadrant)\n",
      "        \n",
      "        # bottom left -> flip along y=x, with the first and third quadrant being invariant\n",
      "        if quadrant == 0:\n",
      "            indexMatrix = np.transpose(indexMatrix)\n",
      "        # bottom right -> flip along y=-x, with the second and fourth quadrant being invariant\n",
      "        if quadrant == 3:\n",
      "            indexMatrix = np.fliplr(np.transpose(np.fliplr(indexMatrix)))\n",
      "    \n",
      "    return int(index,2)"
     ],
     "language": "python",
     "metadata": {},
     "outputs": [],
     "prompt_number": 2
    },
    {
     "cell_type": "heading",
     "level": 1,
     "metadata": {},
     "source": [
      "Setting up the Conversion Lists"
     ]
    },
    {
     "cell_type": "code",
     "collapsed": false,
     "input": [
      "XYtoIndex = [None]*l\n",
      "indexToX  = [None]*(l**2)\n",
      "indexToY  = [None]*(l**2)\n",
      "\n",
      "for x in range(l):\n",
      "    XYtoIndex[x] = [None]*l\n",
      "    for y in range(l):\n",
      "        i = pixelToIndex(x,y,resolution)\n",
      "        XYtoIndex[x][y] = i\n",
      "        indexToX[i] = x\n",
      "        indexToY[i] = y"
     ],
     "language": "python",
     "metadata": {},
     "outputs": [],
     "prompt_number": 3
    },
    {
     "cell_type": "heading",
     "level": 2,
     "metadata": {},
     "source": [
      "Proof of Concept"
     ]
    },
    {
     "cell_type": "code",
     "collapsed": false,
     "input": [
      "peanoCurve = np.flipud(np.transpose(XYtoIndex)) # to display it as we would draw it\n",
      "\n",
      "for row in peanoCurve:\n",
      "    for val in row:\n",
      "        print maxDecimalLength.format(val),\n",
      "    print\n",
      "\n",
      "imshow(peanoCurve, interpolation='nearest')"
     ],
     "language": "python",
     "metadata": {},
     "outputs": [
      {
       "output_type": "stream",
       "stream": "stdout",
       "text": [
        "21 22 25 26 37 38 41 42\n",
        "20 23 24 27 36 39 40 43\n",
        "19 18 29 28 35 34 45 44\n",
        "16 17 30 31 32 33 46 47\n",
        "15 12 11 10 53 52 51 48\n",
        "14 13  8  9 54 55 50 49\n",
        " 1  2  7  6 57 56 61 62\n",
        " 0  3  4  5 58 59 60 63\n"
       ]
      },
      {
       "metadata": {},
       "output_type": "pyout",
       "prompt_number": 4,
       "text": [
        "<matplotlib.image.AxesImage at 0x10a50f9d0>"
       ]
      },
      {
       "metadata": {},
       "output_type": "display_data",
       "png": "[encoded data removed]",
       "text": [
        "<matplotlib.figure.Figure at 0x10a011910>"
       ]
      }
     ],
     "prompt_number": 4
    },
    {
     "cell_type": "heading",
     "level": 1,
     "metadata": {},
     "source": [
      "Sound \u2192 Fourier series"
     ]
    },
    {
     "cell_type": "code",
     "collapsed": false,
     "input": [
      "def soundToSample(filename):\n",
      "    wf = wave.open(filename,'r')\n",
      "\n",
      "    channel = wf.getnchannels()\n",
      "    framerate = wf.getframerate()\n",
      "\n",
      "    samples = []\n",
      "    tmp = wf.readframes(1)\n",
      "\n",
      "    if channel == 1:\n",
      "        while tmp != '' :                           # wird wf.getnframes() mal durchlaufen\n",
      "            data = struct.unpack('h', tmp)\n",
      "            samples.append(int(data[0]))\n",
      "            tmp = wf.readframes(1)\n",
      "\n",
      "    else:\n",
      "        while tmp != '' :\n",
      "            data = struct.unpack('hh', tmp)\n",
      "            samples.append(int((data[0]+data[1])/2)) # bei Stereo werden linker und rechter Sound gemittelt\n",
      "            tmp = wf.readframes(1)\n",
      "\n",
      "    wf.close()\n",
      "\n",
      "    return samples, framerate"
     ],
     "language": "python",
     "metadata": {},
     "outputs": [],
     "prompt_number": 5
    },
    {
     "cell_type": "heading",
     "level": 1,
     "metadata": {},
     "source": [
      "Fourier series \u2192 Image"
     ]
    },
    {
     "cell_type": "code",
     "collapsed": false,
     "input": [
      "def fftToImage(fft):\n",
      "    n = len(fft)\n",
      "    \n",
      "    # get the complex fft, which has complex conjugated entries\n",
      "    # (a_k-ib_k) = fft_{n//2+k}* = fft_{n//2-k} = (a_k+ib_k),\n",
      "    # in the form (b_n,...,b_1,a_0,...a_{n-1}), where n in this\n",
      "    # formula is n//2 in the code for simplicity's sake\n",
      "    realFFT = np.zeros(n)\n",
      "    for k in xrange(1, n//2):\n",
      "        realFFT[n//2-k] = (fft[k]-fft[-k]).imag\n",
      "        realFFT[n//2+k] = (fft[k]+fft[-k]).real\n",
      "    realFFT[n//2] = (fft[0]).real\n",
      "    realFFT[0]    = (fft[-(n//2)]).real\n",
      "    \n",
      "    # linear rescaling\n",
      "    #normalizedRealFFT = [k/(n*(2.**8))+128 for k in realFFT]\n",
      "    \n",
      "    # nonlinear rescaling with the logistic function\n",
      "    c = 0.99\n",
      "    a = 2 * np.arctanh(2*c-1) # find a s.t. logisticfunc(a)=c\n",
      "    x = realFFT/2.**15/n*a # rescale input vector x\n",
      "    y = np.exp(x)\n",
      "    normalizedRealFFT = np.divide(y,np.add(1,y))*255/c\n",
      "    \n",
      "    # line up these entries along the Peano curve\n",
      "    l = int(np.sqrt(n)) # length of the square\n",
      "    res = np.log2(l)\n",
      "    image = np.zeros([l,l])\n",
      "    for x in xrange(l):\n",
      "        for y in xrange(l):\n",
      "            i = pixelToIndex(x,y,resolution)\n",
      "            image[x][l-y-1] = normalizedRealFFT[i]\n",
      "            \n",
      "    return image"
     ],
     "language": "python",
     "metadata": {},
     "outputs": [],
     "prompt_number": 6
    },
    {
     "cell_type": "heading",
     "level": 1,
     "metadata": {},
     "source": [
      "Putting it together"
     ]
    },
    {
     "cell_type": "code",
     "collapsed": false,
     "input": [
      "def soundToImage(filename, resolution = 6):\n",
      "    sample, framerate = soundToSample(filename)\n",
      "    # resolution=6 yields chunks of ~1/10 seconds length with the framerate of 44100\n",
      "\n",
      "    try:\n",
      "        framerate == 44100\n",
      "    except:\n",
      "        print 'At the moment only framerates of 44100 are supported!'\n",
      "        raise\n",
      "\n",
      "    n = (2**resolution)**2\n",
      "\n",
      "    chunk_num = len(sample) // n\n",
      "\n",
      "    chunks = [sample[i*n:(i+1)*n] for i in xrange(chunk_num)]\n",
      "\n",
      "    video = []\n",
      "\n",
      "    for chunk in chunks:\n",
      "        video.append(fftToImage(np.fft.fft(chunk)))\n",
      "\n",
      "    return video"
     ],
     "language": "python",
     "metadata": {},
     "outputs": [],
     "prompt_number": 7
    },
    {
     "cell_type": "heading",
     "level": 1,
     "metadata": {},
     "source": [
      "Trying it out"
     ]
    },
    {
     "cell_type": "code",
     "collapsed": false,
     "input": [
      "video = soundToImage('whistle.wav',5)\n",
      "\n",
      "for k in range(len(video)):\n",
      "\n",
      "    number = '{:05}'.format(k+1)\n",
      "    string = 'video/image' + number + '.png'\n",
      "\n",
      "    M = sm.toimage(video[k],video[k].max(),video[k].min())\n",
      "    sm.imsave(string,M)"
     ],
     "language": "python",
     "metadata": {},
     "outputs": [],
     "prompt_number": 8
    }
   ],
   "metadata": {}
  }
 ]
}