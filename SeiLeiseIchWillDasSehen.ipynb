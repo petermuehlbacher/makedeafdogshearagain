{
 "metadata": {
  "name": "",
  "signature": "sha256:c0a30fa62115637204fc3c0ec5b91bac9538b87361f066760ff77e5be728e350"
 },
 "nbformat": 3,
 "nbformat_minor": 0,
 "worksheets": [
  {
   "cells": [
    {
     "cell_type": "code",
     "collapsed": false,
     "input": [
      "# documentation follows https://www.python.org/dev/peps/pep-0257/\n",
      "\n",
      "\n",
      "# number of iterations we will need\n",
      "resolution=3\n",
      "\n",
      "# length of the square\n",
      "l=2**resolution\n",
      "\n",
      "def pixelToIndex(x,y):\n",
      "    \"\"\"Returns binary string of length log_2(l^2) which is a bijective mapping\n",
      "    from $l\\times l\\subset\\mathbb R^2$ to $l^2\\subset\\mathbb R$,\n",
      "    given by the (resolution)-th iteration of the Peano curve family\"\"\"\n",
      "    \n",
      "    index = ''\n",
      "    \n",
      "    for i in range(1, resolution+1):\n",
      "        x, y, newBits = fractalIteration(x,y,i)\n",
      "        index += newBits\n",
      "    \n",
      "    return index\n",
      "    \n",
      "def fractalIteration(x,y,i):\n",
      "    \"\"\"Returns binary string of length 2 indicating in which quadrant\n",
      "    the given point (x,y) is (i indicates which length scale is to be considered)\n",
      "    and new coordinates so that the first point ('00') is at the bottom left and\n",
      "    the last point ('11') is at the bottom right.\"\"\"\n",
      "    half = l/2**i\n",
      "    print(x,y)\n",
      "    if x >= half: # we are on the right half\n",
      "        if y >= half: # we are on the upper half\n",
      "            return x - half, y - half, '10'\n",
      "        else: # we are on the lower half\n",
      "            # this is:\n",
      "            # * translating it to the origin (-half in x-component)\n",
      "            # * flipping it around x=-y ((x,y)\\mapsto (-y,-x))\n",
      "            # * translating it to the origin again (+half-1 in both components)\n",
      "            return half-1 - y, 2*half-1 - x, '11'\n",
      "    else:\n",
      "        if y >= half:\n",
      "            return x, y - half, '01'\n",
      "        else:\n",
      "            return y, x, '00'"
     ],
     "language": "python",
     "metadata": {},
     "outputs": [],
     "prompt_number": 1
    },
    {
     "cell_type": "code",
     "collapsed": false,
     "input": [
      "pixelToIndex(7,0)"
     ],
     "language": "python",
     "metadata": {},
     "outputs": [
      {
       "output_type": "stream",
       "stream": "stdout",
       "text": [
        "(7, 0)\n",
        "(3, 0)\n",
        "(1, 0)\n"
       ]
      },
      {
       "metadata": {},
       "output_type": "pyout",
       "prompt_number": 2,
       "text": [
        "'111111'"
       ]
      }
     ],
     "prompt_number": 2
    }
   ],
   "metadata": {}
  }
 ]
}