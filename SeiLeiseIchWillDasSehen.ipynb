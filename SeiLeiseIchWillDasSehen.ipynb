{
 "metadata": {
  "name": "",
  "signature": "sha256:97fad164c9e5615e5d4a2e2031cf040ba951236821c16a0c39cb9283c1d5735f"
 },
 "nbformat": 3,
 "nbformat_minor": 0,
 "worksheets": [
  {
   "cells": [
    {
     "cell_type": "heading",
     "level": 1,
     "metadata": {},
     "source": [
      "General Settings and Imports"
     ]
    },
    {
     "cell_type": "code",
     "collapsed": false,
     "input": [
      "# documentation follows https://www.python.org/dev/peps/pep-0257/\n",
      "import matplotlib.pyplot as plt\n",
      "import matplotlib.image as mpimg\n",
      "from matplotlib.pyplot import imshow\n",
      "import numpy as np\n",
      "from PIL import Image\n",
      "%matplotlib inline\n",
      "\n",
      "# number of iterations we will need\n",
      "resolution=3\n",
      "\n",
      "# length of the square\n",
      "l=2**resolution"
     ],
     "language": "python",
     "metadata": {},
     "outputs": [],
     "prompt_number": 1
    },
    {
     "cell_type": "heading",
     "level": 1,
     "metadata": {},
     "source": [
      "Pixel \u2192 Index"
     ]
    },
    {
     "cell_type": "code",
     "collapsed": false,
     "input": [
      "def pixelToIndex(x,y):\n",
      "    \"\"\"Returns binary string of length log_2(l^2) which is a bijective mapping\n",
      "    from $l\\times l\\subset\\mathbb R^2$ to $l^2\\subset\\mathbb R$,\n",
      "    given by the (resolution)-th iteration of the Peano curve family\"\"\"\n",
      "    \n",
      "    index = ''\n",
      "    \n",
      "    for i in range(1, resolution+1):\n",
      "        x, y, newBits = fractalIterationPtoI(x,y,i)\n",
      "        index += newBits\n",
      "    \n",
      "    return index\n",
      "    \n",
      "def fractalIterationPtoI(x,y,i):\n",
      "    \"\"\"Returns binary string of length 2 indicating in which quadrant\n",
      "    the given point (x,y) is (i indicates which length scale is to be considered)\n",
      "    and new coordinates so that the first point ('00') is at the bottom left and\n",
      "    the last point ('11') is at the bottom right.\"\"\"\n",
      "    half = l/2**i\n",
      "    #print(x,y)\n",
      "    if x >= half: # we are on the right half\n",
      "        if y >= half: # we are on the upper half\n",
      "            return x - half, y - half, '10'\n",
      "        else: # we are on the lower half\n",
      "            # this is:\n",
      "            # * translating it to the origin (-half in x-component)\n",
      "            # * flipping it around x=-y ((x,y)\\mapsto (-y,-x))\n",
      "            # * translating it to the origin again (+half-1 in both components)\n",
      "            return half-1 - y, 2*half-1 - x, '11'\n",
      "    else:\n",
      "        if y >= half:\n",
      "            return x, y - half, '01'\n",
      "        else:\n",
      "            return y, x, '00'"
     ],
     "language": "python",
     "metadata": {},
     "outputs": [],
     "prompt_number": 2
    },
    {
     "cell_type": "heading",
     "level": 1,
     "metadata": {},
     "source": [
      "Index \u2192 Pixel"
     ]
    },
    {
     "cell_type": "code",
     "collapsed": false,
     "input": [
      "binMatrix = [\n",
      "# 00    01    10    11 <- prev | below: current\n",
      "[[0,0],[0,0],[0,0],[1,1]], # 00\n",
      "[[1,0],[0,1],[0,1],[0,1]], # 01\n",
      "[[1,1],[1,1],[1,1],[0,0]], # 10\n",
      "[[0,1],[1,0],[1,0],[1,0]]  # 11\n",
      "]\n",
      "\"\"\"Depending on which quadrant we are coming from,\n",
      "'the first', 'the second', 'the third' and 'the fourth'\n",
      "(sub)quadrant will have different positions because of\n",
      "the flipping of the two bottom 'copies' in the iterations.\n",
      "This information is stored in that matrix.\"\"\"\n",
      "\n",
      "def indexToPixel(index):\n",
      "    \"\"\"Takes a binary string of length log_2(l^2) and maps it\n",
      "    to a point in (l\\times l)\\subset\\mathbb R^2 given by the\n",
      "    (resolution)-th iteration of the Peano curve family\"\"\"\n",
      "    # the first iteration behaves just as if the previous\n",
      "    # iteration would have been in on of the two upper half\n",
      "    # i.e. 00->lower left, 01->upper left, 10->upper right, 11->lower right\n",
      "    x = ''\n",
      "    y = ''\n",
      "    prev = '10'\n",
      "    \n",
      "    for i in range(1,resolution+1):\n",
      "        curr  = index[:2] # take the first two values\n",
      "        index = index[2:] # delete the first two values\n",
      "        \n",
      "        bx,by = binMatrix[int(curr, 2)][int(prev, 2)]\n",
      "        x += str(bx)\n",
      "        y += str(by)\n",
      "        prev = curr\n",
      "        \n",
      "    return int(x, 2),int(y, 2)"
     ],
     "language": "python",
     "metadata": {},
     "outputs": [],
     "prompt_number": 3
    },
    {
     "cell_type": "heading",
     "level": 2,
     "metadata": {},
     "source": [
      "Tests"
     ]
    },
    {
     "cell_type": "code",
     "collapsed": false,
     "input": [
      "print pixelToIndex(7,1)\n",
      "print indexToPixel('111110')"
     ],
     "language": "python",
     "metadata": {},
     "outputs": [
      {
       "output_type": "stream",
       "stream": "stdout",
       "text": [
        "111110\n",
        "(6, 0)\n"
       ]
      }
     ],
     "prompt_number": 10
    },
    {
     "cell_type": "heading",
     "level": 1,
     "metadata": {},
     "source": [
      "Image \u2192 Fourier series"
     ]
    },
    {
     "cell_type": "code",
     "collapsed": false,
     "input": [
      "def imgToFTCoefficients(imgArray):\n",
      "    \"\"\"a\"\"\"\n",
      "    FTCoefficients = []\n",
      "    fmt = '{0:0'+str(2*resolution)+'b}' # input should be of length 2*resolution\n",
      "    for i in range(l**2):\n",
      "        j = fmt.format(i) # decimal -> binary of length 2*resolution\n",
      "        x,y = indexToPixel(j)\n",
      "        _,re,im = imgArray[x][y] # set re,im to be the G and B channel\n",
      "        FTCoefficients.append((re,im)) # disregard the R channel\n",
      "    return FTCoefficients"
     ],
     "language": "python",
     "metadata": {},
     "outputs": [],
     "prompt_number": 6
    },
    {
     "cell_type": "code",
     "collapsed": false,
     "input": [
      "def FTCoefficientsToImg(FTCoefficients):\n",
      "    imgArray = []\n",
      "    for x in range(l):\n",
      "        imgArray.append([None]*l)\n",
      "        for y in range(l):\n",
      "            index = int(pixelToIndex(x,y), 2)\n",
      "            re,im = FTCoefficients[index]\n",
      "            imgArray[x][y] = [0,re,im]\n",
      "    return imgArray"
     ],
     "language": "python",
     "metadata": {},
     "outputs": [],
     "prompt_number": 18
    },
    {
     "cell_type": "heading",
     "level": 2,
     "metadata": {},
     "source": [
      "Samples"
     ]
    },
    {
     "cell_type": "code",
     "collapsed": false,
     "input": [
      "# imgArray = np.asarray(Image.open('profile.jpg', 'r')) <-- images should be loaded that way\n",
      "# doing that yield a result like that (take care that images are 2^resolution x 2^resolution):\n",
      "imgArray = ([\n",
      "[[0,0,0],[0,0,0],[0,0,0],[0,0,0],[0,0,0],[0,0,0],[0,0,0],[0,0,0]],\n",
      "[[0,0,0],[0,1,0],[0,0,0],[0,0,0],[0,0,0],[0,0,0],[0,0,0],[0,0,0]],\n",
      "[[0,0,0],[0,0,0],[0,0,0],[0,0,0],[0,0,0],[0,0,0],[0,0,0],[0,0,0]],\n",
      "[[0,0,0],[0,0,0],[0,0,0],[0,0,0],[0,0,0],[0,0,0],[0,0,0],[0,0,0]],\n",
      "[[0,0,0],[0,0,0],[0,0,0],[0,0,0],[0,0,1],[0,0,0],[0,0,0],[0,0,0]],\n",
      "[[0,0,0],[1,0,0],[0,0,0],[0,0,0],[0,0,0],[0,0,0],[0,0,0],[0,0,0]],\n",
      "[[0,0,0],[0,0,0],[0,0,0],[0,0,0],[0,0,0],[0,0,0],[0,0,0],[0,0,0]],\n",
      "[[0,0,0],[0,0,0],[0,0,0],[0,0,0],[0,0,0],[0,0,0],[0,0,0],[0,0,0]]\n",
      "])\n",
      "# show it in iPython like that (try both versions once)\n",
      "imshow(imgArray)\n",
      "# imshow(FTCoefficientsToImg(imgToFTCoefficients(imgArray)))"
     ],
     "language": "python",
     "metadata": {},
     "outputs": [
      {
       "metadata": {},
       "output_type": "pyout",
       "prompt_number": 24,
       "text": [
        "<matplotlib.image.AxesImage at 0x10a103590>"
       ]
      },
      {
       "metadata": {},
       "output_type": "display_data",
       "png": "[encoded data removed]",
       "text": [
        "<matplotlib.figure.Figure at 0x109d251d0>"
       ]
      }
     ],
     "prompt_number": 24
    },
    {
     "cell_type": "code",
     "collapsed": false,
     "input": [],
     "language": "python",
     "metadata": {},
     "outputs": []
    }
   ],
   "metadata": {}
  }
 ]
}