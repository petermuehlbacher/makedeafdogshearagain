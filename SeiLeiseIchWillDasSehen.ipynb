{
 "metadata": {
  "name": "",
  "signature": "sha256:781882783232365f3707b294677a5267517546c0d88273513df0f9b34f8bdefd"
 },
 "nbformat": 3,
 "nbformat_minor": 0,
 "worksheets": [
  {
   "cells": [
    {
     "cell_type": "heading",
     "level": 1,
     "metadata": {},
     "source": [
      "General Settings and Imports"
     ]
    },
    {
     "cell_type": "code",
     "collapsed": false,
     "input": [
      "# documentation follows https://www.python.org/dev/peps/pep-0257/\n",
      "import matplotlib.pyplot as plt\n",
      "import matplotlib.image as mpimg\n",
      "from matplotlib.pyplot import imshow\n",
      "import numpy as np\n",
      "from PIL import Image\n",
      "%matplotlib inline\n",
      "\n",
      "# number of iterations we will need\n",
      "resolution=3\n",
      "\n",
      "# length of the square\n",
      "l=2**resolution\n",
      "\n",
      "maxDecimalLength = '{:'+str(int(np.ceil(np.log10(l**2-1))))+'}' # for displaying in decimal system"
     ],
     "language": "python",
     "metadata": {},
     "outputs": [],
     "prompt_number": 1
    },
    {
     "cell_type": "heading",
     "level": 1,
     "metadata": {},
     "source": [
      "Pixel \u2192 Index"
     ]
    },
    {
     "cell_type": "code",
     "collapsed": false,
     "input": [
      "def pixelToIndex(x,y):\n",
      "    \"\"\"Returns the index int 0<=index<l^2; this is a bijective mapping\n",
      "    from $l\\times l\\subset\\mathbb R^2$ to $l^2\\subset\\mathbb R$,\n",
      "    given by the (resolution)-th iteration of the Peano curve family\"\"\"\n",
      "    \n",
      "    index = ''\n",
      "\n",
      "    indexMatrix = np.arange(4).reshape((2, 2))\n",
      "    # initializing it within the function on purpose\n",
      "    # so it gets reset every time the function is called\n",
      "    indexMatrix[1] = indexMatrix[1][::-1] # swap the third and fourth node\n",
      "    \n",
      "    for i in range(resolution):\n",
      "        # bitwise shift to the right so that the i-th bit is the first one from the left\n",
      "        # then take mod 2 to eliminate all other bits that are to its left\n",
      "        # this way we get the i-th (from the left) element of the numbers binary representation,\n",
      "        # e.g. 2 = 000010 -> 1 for i=4\n",
      "        currX = (x>>(resolution-i-1))%2\n",
      "        currY = (y>>(resolution-i-1))%2\n",
      "        \n",
      "        # depending on what the parent is (the first and the fourth quadrant undergo some flipping)\n",
      "        # this represents the information how many steps it is from the beginning of the current\n",
      "        # square we are in; e.g. on the most coarse grained scale the left bottom is 0, left top 1,\n",
      "        # right top 2 and right bottom 3; if the 'parent' was (e.g.) an element at the right bottom,\n",
      "        # then everything is flipped, i.e. the left bottom is 2, the left top 1, the right top 0 and\n",
      "        # the right bottom 3\n",
      "        quadrant = indexMatrix[currX][currY]\n",
      "        \n",
      "        # append 00,01,10 or 11 depending on whether quadrant is 0,1,2 or 3 respectively\n",
      "        index += '{0:02b}'.format(quadrant)\n",
      "        \n",
      "        # bottom left -> flip along y=x, with the first and third quadrant being invariant\n",
      "        if quadrant == 0:\n",
      "            indexMatrix = np.transpose(indexMatrix)\n",
      "        # bottom right -> flip along y=-x, with the second and fourth quadrant being invariant\n",
      "        if quadrant == 3:\n",
      "            indexMatrix = np.fliplr(np.transpose(np.fliplr(indexMatrix)))\n",
      "    \n",
      "    return int(index,2)"
     ],
     "language": "python",
     "metadata": {},
     "outputs": [],
     "prompt_number": 2
    },
    {
     "cell_type": "heading",
     "level": 1,
     "metadata": {},
     "source": [
      "Setting up the Conversion Lists"
     ]
    },
    {
     "cell_type": "code",
     "collapsed": false,
     "input": [
      "XYtoIndex = [None]*l\n",
      "indexToX  = [None]*(l**2)\n",
      "indexToY  = [None]*(l**2)\n",
      "\n",
      "for x in range(l):\n",
      "    XYtoIndex[x] = [None]*l\n",
      "    for y in range(l):\n",
      "        i = pixelToIndex(x,y)\n",
      "        XYtoIndex[x][y] = i\n",
      "        indexToX[i] = x\n",
      "        indexToY[i] = y"
     ],
     "language": "python",
     "metadata": {},
     "outputs": [],
     "prompt_number": 3
    },
    {
     "cell_type": "heading",
     "level": 2,
     "metadata": {},
     "source": [
      "Proof of Concept"
     ]
    },
    {
     "cell_type": "code",
     "collapsed": false,
     "input": [
      "peanoCurve = np.flipud(np.transpose(XYtoIndex)) # to display it as we would draw it\n",
      "\n",
      "for row in peanoCurve:\n",
      "    for val in row:\n",
      "        print maxDecimalLength.format(val),\n",
      "    print\n",
      "\n",
      "imshow(peanoCurve, interpolation='nearest')"
     ],
     "language": "python",
     "metadata": {},
     "outputs": [
      {
       "output_type": "stream",
       "stream": "stdout",
       "text": [
        "21 22 25 26 37 38 41 42\n",
        "20 23 24 27 36 39 40 43\n",
        "19 18 29 28 35 34 45 44\n",
        "16 17 30 31 32 33 46 47\n",
        "15 12 11 10 53 52 51 48\n",
        "14 13  8  9 54 55 50 49\n",
        " 1  2  7  6 57 56 61 62\n",
        " 0  3  4  5 58 59 60 63\n"
       ]
      },
      {
       "metadata": {},
       "output_type": "pyout",
       "prompt_number": 4,
       "text": [
        "<matplotlib.image.AxesImage at 0x1082bbdd0>"
       ]
      },
      {
       "metadata": {},
       "output_type": "display_data",
       "png": "[encoded data removed]",
       "text": [
        "<matplotlib.figure.Figure at 0x107def890>"
       ]
      }
     ],
     "prompt_number": 4
    },
    {
     "cell_type": "heading",
     "level": 1,
     "metadata": {},
     "source": [
      "Image \u2192 Fourier series"
     ]
    },
    {
     "cell_type": "code",
     "collapsed": false,
     "input": [
      "def imgToFTCoefficients(imgArray):\n",
      "    \"\"\"Takes an image (l\\times l\\times 3 array) and returns \n",
      "    a two lists storing the real and imaginary part (respectively)\"\"\"\n",
      "    FTCoefficients = ([],[]) # Re and Im are separate lists\n",
      "    \n",
      "    for i in range(l**2):\n",
      "        _,re,im = imgArray[indexToX[i]][indexToY[i]] # set re,im to be the G and B channel\n",
      "        FTCoefficients[0].append(re)\n",
      "        FTCoefficients[1].append(im)\n",
      "        # disregard the R channel\n",
      "    return FTCoefficients"
     ],
     "language": "python",
     "metadata": {},
     "outputs": [],
     "prompt_number": 5
    },
    {
     "cell_type": "code",
     "collapsed": false,
     "input": [
      "def FTCoefficientsToImg(FTCoefficients):\n",
      "    \"\"\"Takes a tuple of two lists storing the real and imaginary part\n",
      "    and returns an image (l\\times l\\times 3 array), where the R channel\n",
      "    is set to zero, Re is mapped to G and Im to B\"\"\"\n",
      "    imgArray = []\n",
      "    for x in range(l):\n",
      "        imgArray.append([None]*l)\n",
      "        for y in range(l):\n",
      "            index = XYtoIndex[x][y]\n",
      "            re = FTCoefficients[0][index]\n",
      "            im = FTCoefficients[1][index]\n",
      "            imgArray[x][y] = [0,re,im]\n",
      "    return imgArray"
     ],
     "language": "python",
     "metadata": {},
     "outputs": [],
     "prompt_number": 6
    },
    {
     "cell_type": "heading",
     "level": 2,
     "metadata": {},
     "source": [
      "Examples"
     ]
    },
    {
     "cell_type": "code",
     "collapsed": false,
     "input": [
      "# imgArray = np.asarray(Image.open('profile.jpg', 'r')) <-- images should be loaded that way\n",
      "# doing that yield a result like that (take care that images are 2^resolution x 2^resolution):\n",
      "imgArray = ([\n",
      "[[0,0,0],[0,0,0],[0,0,0],[0,0,0],[0,0,0],[0,0,0],[0,0,0],[0,0,0]],\n",
      "[[0,0,0],[0,1,0],[0,0,0],[0,0,0],[0,0,0],[0,0,0],[0,1,1],[0,0,0]],\n",
      "[[0,0,0],[0,0,0],[0,0,0],[0,0,0],[0,0,0],[0,0,0],[0,0,0],[0,0,0]],\n",
      "[[0,0,0],[0,0,0],[0,0,0],[0,0,0],[0,0,0],[0,0,0],[0,0,0],[0,0,0]],\n",
      "[[0,0,0],[0,0,0],[0,0,0],[0,0,0],[0,0,1],[0,0,0],[0,0,0],[0,0,0]],\n",
      "[[0,0,0],[1,0,0],[0,0,0],[0,0,0],[0,0,0],[0,0,0],[0,0,0],[1,0,1]],\n",
      "[[0,0,0],[0,0,0],[0,0,0],[0,0,0],[1,1,0],[0,0,0],[0,0,0],[0,0,0]],\n",
      "[[0,0,0],[0,0,0],[0,0,0],[0,0,0],[0,0,0],[0,0,0],[0,0,0],[0,0,0]]\n",
      "])\n",
      "# use `imshow(imgArray)` to show a picture in iPython\n",
      "fig = plt.figure()\n",
      "a=fig.add_subplot(1,2,1)\n",
      "imgplot = plt.imshow(imgArray, interpolation='nearest')\n",
      "a.set_title('Before')\n",
      "a=fig.add_subplot(1,2,2)\n",
      "imgplot = plt.imshow(FTCoefficientsToImg(imgToFTCoefficients(imgArray)), interpolation='nearest')\n",
      "a.set_title('After')\n",
      "plt.show()"
     ],
     "language": "python",
     "metadata": {},
     "outputs": [
      {
       "metadata": {},
       "output_type": "display_data",
       "png": "[encoded data removed]",
       "text": [
        "<matplotlib.figure.Figure at 0x108394650>"
       ]
      }
     ],
     "prompt_number": 7
    },
    {
     "cell_type": "code",
     "collapsed": false,
     "input": [
      "def peanoLinearizeMatrix(M):\n",
      "    \"\"\"Takes a square matrix $M$ of dimensions $l\\times l$ and returns\n",
      "    a list of length $l^2$ with $i$-th entry being the value of the $i$-th\n",
      "    point on the Peano curve traversing the square matrix $M$\"\"\"\n",
      "    if (len(M) == l) and (len(M[0]) == l):\n",
      "        linM = [None]*l**2\n",
      "        for i in range(l**2):\n",
      "            linM[i] = M[indexToX[i]][indexToY[i]]\n",
      "            \n",
      "        return linM\n",
      "    else:\n",
      "        print \"dimensions of the input are supposed to be \"+str(l)+\"x\"+str(l)+\"!\""
     ],
     "language": "python",
     "metadata": {},
     "outputs": [],
     "prompt_number": 74
    },
    {
     "cell_type": "code",
     "collapsed": false,
     "input": [],
     "language": "python",
     "metadata": {},
     "outputs": []
    }
   ],
   "metadata": {}
  }
 ]
}