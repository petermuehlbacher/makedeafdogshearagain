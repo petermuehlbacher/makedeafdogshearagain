{
 "cells": [
  {
   "cell_type": "markdown",
   "metadata": {},
   "source": [
    "# useful functions"
   ]
  },
  {
   "cell_type": "markdown",
   "metadata": {},
   "source": [
    "## coding the functions"
   ]
  },
  {
   "cell_type": "markdown",
   "metadata": {},
   "source": [
    "### modules we are going to need"
   ]
  },
  {
   "cell_type": "code",
   "execution_count": 1,
   "metadata": {
    "collapsed": true
   },
   "outputs": [],
   "source": [
    "from scipy import *\n",
    "from pylab import *\n",
    "\n",
    "import wave\n",
    "import struct\n",
    "import subprocess\n",
    "\n",
    "import scipy.misc as sm\n",
    "import matplotlib.pyplot as plt\n",
    "\n",
    "%matplotlib inline"
   ]
  },
  {
   "cell_type": "markdown",
   "metadata": {},
   "source": [
    "### image -> sample"
   ]
  },
  {
   "cell_type": "code",
   "execution_count": 2,
   "metadata": {
    "collapsed": true
   },
   "outputs": [],
   "source": [
    "def getCoeff(freq):\n",
    "        \n",
    "        # FALLUNTERSCHEIDUNG FEHLT !!!\n",
    "        # freq muss gerade sein!\n",
    "        \n",
    "    l = size(freq)\n",
    "    \n",
    "    a = zeros(l//2+1)\n",
    "    b = zeros(l//2+1)\n",
    "    \n",
    "    for k in range(l//2):\n",
    "        b[-(k+1)] = freq[k]\n",
    "        a[k] = freq[k+l//2]\n",
    "        \n",
    "    return a,b\n",
    "    "
   ]
  },
  {
   "cell_type": "code",
   "execution_count": 3,
   "metadata": {
    "collapsed": true
   },
   "outputs": [],
   "source": [
    "def freqToSampleNaive(freq, duration, framerate = 44100):\n",
    "    \n",
    "    a,b = getCoeff(freq)\n",
    "    l = size(freq)\n",
    "        \n",
    "    sampleLength = duration * framerate    \n",
    "    time = linspace(0,duration,sampleLength)\n",
    "    \n",
    "    samples = []\n",
    "    \n",
    "    for n in time:\n",
    "        sum = a[0]/2\n",
    "        for k in range(1,l//2+1):\n",
    "            sum += a[k]*cos(k*n/framerate)+b[k]*sin(k*n/framerate)\n",
    "            \n",
    "        samples.append(sum)\n",
    "        \n",
    "    return samples"
   ]
  },
  {
   "cell_type": "markdown",
   "metadata": {},
   "source": [
    "### sample <-> sound"
   ]
  },
  {
   "cell_type": "code",
   "execution_count": 4,
   "metadata": {
    "collapsed": true
   },
   "outputs": [],
   "source": [
    "def sampleToSound(sample, framerate = 44100, name = 'sample.wav'):\n",
    "    \n",
    "    string = 'rm ' + name\n",
    "    subprocess.call(string, shell=True)\n",
    "    cp = wave.open( name , 'w')\n",
    "    \n",
    "    cp.setparams((1, 2, framerate, 0, 'NONE', 'not compressed'))\n",
    "    \n",
    "    for k in range(len(sample)):                    # dieser Algorithmus is noch nicht optimal, da der Aufruf der \n",
    "        value = int(sample[k])                      # Funktion cp.writeframes() Zeitaufwendig ist.\n",
    "        packed_value = struct.pack('h', value)      # Besser wäre es die values in einem Vektor zu sammeln und die\n",
    "        cp.writeframes(packed_value)                # Funktion nach der Schleife nur einmal aufzurufen.\n",
    "        \n",
    "    cp.close()"
   ]
  },
  {
   "cell_type": "code",
   "execution_count": 5,
   "metadata": {
    "collapsed": true
   },
   "outputs": [],
   "source": [
    "def soundToSample(filename):\n",
    "    wf = wave.open(filename,'r')\n",
    "    \n",
    "    channel = wf.getnchannels()\n",
    "    framerate = wf.getframerate()\n",
    "    \n",
    "    sample = []\n",
    "    tmp = wf.readframes(1)\n",
    "\n",
    "    if channel == 1:\n",
    "        while tmp != '' :                           # sollte wf.getnframes() mal durchlaufen werden\n",
    "            data = struct.unpack('h', tmp)\n",
    "            sample.append(int(data[0]))\n",
    "            tmp = wf.readframes(1)\n",
    "            \n",
    "    else:\n",
    "        while tmp != '' :                       \n",
    "            data = struct.unpack('hh', tmp)\n",
    "            sample.append(int((data[0]+data[1])/2)) # bei Stereo werden linker und rechter Sound gemittelt\n",
    "            tmp = wf.readframes(1)\n",
    "        \n",
    "    wf.close()\n",
    "    \n",
    "    return sample, framerate"
   ]
  },
  {
   "cell_type": "markdown",
   "metadata": {},
   "source": [
    "## testing the functions"
   ]
  },
  {
   "cell_type": "markdown",
   "metadata": {},
   "source": [
    "### $getCoeff$"
   ]
  },
  {
   "cell_type": "markdown",
   "metadata": {},
   "source": [
    "Suppose you've already extracted the entries of an image via a proper Hilbert curve.\n",
    "You end up with an array $freq$ which we can now interpret as the frequencies of a piece of music.\n",
    "For the sake of simplicity let's say our $freq$ is given by:"
   ]
  },
  {
   "cell_type": "code",
   "execution_count": 6,
   "metadata": {
    "collapsed": false
   },
   "outputs": [
    {
     "data": {
      "text/plain": [
       "array([ 1,  2,  3,  4,  5,  6,  7,  8,  9, 10, 11, 12, 13, 14, 15, 16])"
      ]
     },
     "execution_count": 6,
     "metadata": {},
     "output_type": "execute_result"
    }
   ],
   "source": [
    "freq = arange(1,(2**2)**2+1)\n",
    "freq"
   ]
  },
  {
   "cell_type": "markdown",
   "metadata": {},
   "source": [
    "which would correspond to a $2^2 \\times 2^2$ image.\n",
    "\n",
    "Thinking of this array as $freq = (b_n, \\dots , b_1, a_0, a_1, \\dots , a_{n-1})$ yields:"
   ]
  },
  {
   "cell_type": "code",
   "execution_count": 7,
   "metadata": {
    "collapsed": false
   },
   "outputs": [
    {
     "data": {
      "text/plain": [
       "(array([ 0.,  8.,  7.,  6.,  5.,  4.,  3.,  2.,  1.]),\n",
       " array([  9.,  10.,  11.,  12.,  13.,  14.,  15.,  16.,   0.]))"
      ]
     },
     "execution_count": 7,
     "metadata": {},
     "output_type": "execute_result"
    }
   ],
   "source": [
    "a,b = getCoeff(freq)\n",
    "b,a"
   ]
  },
  {
   "cell_type": "markdown",
   "metadata": {},
   "source": [
    "where we set $b_0 = a_n = 0$."
   ]
  },
  {
   "cell_type": "markdown",
   "metadata": {},
   "source": [
    "### $freqToSampleNaive$ - theory"
   ]
  },
  {
   "cell_type": "markdown",
   "metadata": {},
   "source": [
    "Assuming our sound can be modeled by an (integrable) real valued function $f \\colon \\mathbb{R}^+ \\rightarrow \\mathbb{R}$, we know that it can be recovered from its Fourier coefficients by\n",
    "$$f(x) = \\frac{a_a}{2} + \\sum_{k = 1}^{\\infty} a_k \\, cos(kx) + b_k \\, sin(kx)$$"
   ]
  },
  {
   "cell_type": "markdown",
   "metadata": {},
   "source": [
    "Sampling this function on a bunch of equidistant points $(p_i)_{i=0}^N$ starting with $p_0 = 0$ gives us a new descrete function $s \\colon \\mathbb{N}_{\\leq N} \\rightarrow \\mathbb{R}$ defined by\n",
    "$$s(n) := f(p_n) = \\frac{a_a}{2} + \\sum_{k = 1}^{\\infty} a_k \\, cos(kp_n) + b_k \\, sin(kp_n)$$"
   ]
  },
  {
   "cell_type": "markdown",
   "metadata": {},
   "source": [
    "We call $s$ the sample array of our sound $f$ or simply our samples, $s(n)$ is called the $n$-th sample and $N$ will be the sample length. Since $(p_i)_{i=0}^N$ is equidistant distributed the number $h:= p_{i+1}-p_i$ is well defined and we call $r := \\frac{1}{h}$ the framerate, which we require to be an integer."
   ]
  },
  {
   "cell_type": "markdown",
   "metadata": {},
   "source": [
    "Thinking of $(p_i)_{i=1}^N$ as descrete points on the time-axis it seems natural to call $p_N$ the duration of the sound, and it is easy to see that $r\\cdot p_n = n$, in particular $r\\cdot p_N = N$"
   ]
  },
  {
   "cell_type": "markdown",
   "metadata": {},
   "source": [
    "Given $r$, $p_N$ and $(a_k,b_k)_{k=0}^{\\infty}$ we can reconstruct our samples s from its Fourier coefficients by\n",
    "$$ s(n) = \\frac{a_0}{2} + \\sum_{k=1}^{\\infty} a_k \\, cos \\left( k \\frac{n}{r} \\right) + b_k \\, sin \\left( k \\frac{n}{r} \\right) $$"
   ]
  },
  {
   "cell_type": "markdown",
   "metadata": {},
   "source": [
    "### $freqToSampleNaive$"
   ]
  },
  {
   "cell_type": "markdown",
   "metadata": {},
   "source": [
    "If we take the \"picture\" from above and agree on maping a picture to a $50ms$ sound on with standard framerate of $44100$ samples per second we get:"
   ]
  },
  {
   "cell_type": "code",
   "execution_count": 8,
   "metadata": {
    "collapsed": false,
    "scrolled": true
   },
   "outputs": [
    {
     "data": {
      "image/png": "[encoded data removed]",
      "text/plain": [
       "<matplotlib.figure.Figure at 0x103ca85d0>"
      ]
     },
     "metadata": {},
     "output_type": "display_data"
    }
   ],
   "source": [
    "duration = 0.05\n",
    "samples = freqToSampleNaive(freq,duration)\n",
    "\n",
    "ms = linspace(0,duration*1000,44100*duration)\n",
    "\n",
    "plt.plot(ms,samples)\n",
    "plt.xlabel('time in ms')\n",
    "plt.ylabel('pressure')\n",
    "plt.show()"
   ]
  },
  {
   "cell_type": "markdown",
   "metadata": {},
   "source": [
    "### $soundToSample$ <-> $sampleToSound$"
   ]
  },
  {
   "cell_type": "code",
   "execution_count": 9,
   "metadata": {
    "collapsed": false
   },
   "outputs": [],
   "source": [
    "filename = 'filename.wav'\n",
    "samples, framerate = soundToSample(filename)\n",
    "sampleToSound(samples, framerate, 'new.wav')"
   ]
  },
  {
   "cell_type": "markdown",
   "metadata": {},
   "source": [
    "This code should generate a copy of your wav-file 'filename.wav' under the new name 'new.wav'"
   ]
  },
  {
   "cell_type": "markdown",
   "metadata": {},
   "source": [
    "## experimenting with images"
   ]
  },
  {
   "cell_type": "code",
   "execution_count": 10,
   "metadata": {
    "collapsed": false
   },
   "outputs": [
    {
     "data": {
      "text/plain": [
       "<matplotlib.image.AxesImage at 0x10f685890>"
      ]
     },
     "execution_count": 10,
     "metadata": {},
     "output_type": "execute_result"
    },
    {
     "data": {
      "image/png": "[encoded data removed]",
      "text/plain": [
       "<matplotlib.figure.Figure at 0x10f1b6c90>"
      ]
     },
     "metadata": {},
     "output_type": "display_data"
    }
   ],
   "source": [
    "A = array([\n",
    "       [21., 22., 25., 26., 37., 38., 41., 42.],\n",
    "       [20., 23., 24., 27., 36., 39., 40., 43.],\n",
    "       [19., 18., 29., 28., 35., 34., 45., 44.],\n",
    "       [16., 17., 30., 31., 32., 33., 46., 47.],\n",
    "       [15., 12., 11., 10., 53., 52., 51., 48.],\n",
    "       [14., 13., 8., 9, 54., 55., 50., 49.],\n",
    "       [1., 2., 7., 6., 57., 56., 61., 62.],\n",
    "       [0., 3., 4., 5., 58., 59., 60., 63.]\n",
    "       ], dtype=float32)\n",
    "\n",
    "image = zeros([8,8,3])\n",
    "image[:,:,0] = A*(1/63)\n",
    "image[:,:,1] = A*(1/63)\n",
    "image[:,:,2] = A*(1/63)\n",
    "\n",
    "fig = plt.figure()\n",
    "a=fig.add_subplot(1,2,1)\n",
    "plt.imshow(A, interpolation='nearest')\n",
    "a.set_title('Before')\n",
    "a=fig.add_subplot(1,2,2)\n",
    "a.set_title('After')\n",
    "plt.imshow(image, interpolation='nearest')"
   ]
  },
  {
   "cell_type": "code",
   "execution_count": null,
   "metadata": {
    "collapsed": true
   },
   "outputs": [],
   "source": []
  }
 ],
 "metadata": {
  "kernelspec": {
   "display_name": "Python 2",
   "language": "python",
   "name": "python2"
  },
  "language_info": {
   "codemirror_mode": {
    "name": "ipython",
    "version": 2
   },
   "file_extension": ".py",
   "mimetype": "text/x-python",
   "name": "python",
   "nbconvert_exporter": "python",
   "pygments_lexer": "ipython2",
   "version": "2.7.10"
  }
 },
 "nbformat": 4,
 "nbformat_minor": 0
}
